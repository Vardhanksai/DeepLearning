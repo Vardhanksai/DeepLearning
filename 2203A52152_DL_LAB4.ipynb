{
  "nbformat": 4,
  "nbformat_minor": 0,
  "metadata": {
    "colab": {
      "provenance": [],
      "authorship_tag": "ABX9TyO5vXhm6sqWLL1GKcPmbrdI",
      "include_colab_link": true
    },
    "kernelspec": {
      "name": "python3",
      "display_name": "Python 3"
    },
    "language_info": {
      "name": "python"
    }
  },
  "cells": [
    {
      "cell_type": "markdown",
      "metadata": {
        "id": "view-in-github",
        "colab_type": "text"
      },
      "source": [
        "<a href=\"https://colab.research.google.com/github/Vardhanksai/DeepLearning/blob/main/2203A52152_DL_LAB4.ipynb\" target=\"_parent\"><img src=\"https://colab.research.google.com/assets/colab-badge.svg\" alt=\"Open In Colab\"/></a>"
      ]
    },
    {
      "cell_type": "code",
      "source": [
        "import numpy as np"
      ],
      "metadata": {
        "colab": {
          "base_uri": "https://localhost:8080/"
        },
        "id": "KWyiu7JiTOP1",
        "outputId": "6b11d01f-97b0-4017-8c39-807f8cc29857"
      },
      "execution_count": 5,
      "outputs": [
        {
          "output_type": "stream",
          "name": "stdout",
          "text": [
            "Epoch 0, MSE: 1.555423\n",
            "Epoch 100, MSE: 0.006608\n",
            "Epoch 200, MSE: 0.003382\n",
            "Epoch 300, MSE: 0.002950\n",
            "Epoch 400, MSE: 0.002577\n",
            "Epoch 500, MSE: 0.002253\n",
            "Epoch 600, MSE: 0.001972\n",
            "Epoch 700, MSE: 0.001726\n",
            "Epoch 800, MSE: 0.001513\n",
            "Epoch 900, MSE: 0.001327\n",
            "Final Training MSE: 0.001165\n",
            "Final Testing MSE: 0.003659\n",
            "Enter values for x1, x2, x3: 0.6 0.7 0.8\n",
            "Predicted Output: 0.488717\n"
          ]
        }
      ]
    },
    {
      "cell_type": "code",
      "source": [
        "X_train = np.array([\n",
        "    [0.1, 0.2, 0.3],\n",
        "    [0.2, 0.3, 0.4],\n",
        "    [0.3, 0.4, 0.5],\n",
        "    [0.5, 0.6, 0.7],\n",
        "    [0.1, 0.3, 0.5],\n",
        "    [0.2, 0.4, 0.6],\n",
        "    [0.3, 0.5, 0.7],\n",
        "    [0.4, 0.6, 0.8],\n",
        "    [0.5, 0.7, 0.1]\n",
        "])"
      ],
      "metadata": {
        "id": "x-pkU_ozUZYT"
      },
      "execution_count": 6,
      "outputs": []
    },
    {
      "cell_type": "code",
      "source": [
        "Y_train = np.array([[0.14], [0.20], [0.26], [0.38], [0.22], [0.28], [0.34], [0.40], [0.22]])\n"
      ],
      "metadata": {
        "id": "VnmNECsGUroC"
      },
      "execution_count": 7,
      "outputs": []
    },
    {
      "cell_type": "code",
      "source": [
        "X_test = np.array([\n",
        "    [0.6, 0.7, 0.8],\n",
        "    [0.7, 0.8, 0.9]\n",
        "])\n",
        "Y_test = np.array([[0.44], [0.50]])\n"
      ],
      "metadata": {
        "id": "CAoTprmfUvPU"
      },
      "execution_count": 8,
      "outputs": []
    },
    {
      "cell_type": "code",
      "source": [
        "np.random.seed(42)\n",
        "weights = np.random.rand(3, 1)\n",
        "bias = np.random.rand(1)"
      ],
      "metadata": {
        "id": "vOsIsFg4U2TI"
      },
      "execution_count": 9,
      "outputs": []
    },
    {
      "cell_type": "code",
      "source": [
        "lr = 0.01\n",
        "epochs = 1000"
      ],
      "metadata": {
        "id": "ZFS6_-d7U3i7"
      },
      "execution_count": 10,
      "outputs": []
    },
    {
      "cell_type": "code",
      "source": [
        "for epoch in range(epochs):\n",
        "    Y_pred = np.dot(X_train, weights) + bias\n",
        "\n",
        "    error = Y_pred - Y_train\n",
        "\n",
        "    dW = (2 / len(X_train)) * np.dot(X_train.T, error)\n",
        "    dB = (2 / len(X_train)) * np.sum(error)\n",
        "\n",
        "    weights -= lr * dW\n",
        "    bias -= lr * dB\n",
        "    if epoch % 100 == 0:\n",
        "        mse = np.mean(error ** 2)\n",
        "        print(f\"Epoch {epoch}, MSE: {mse:.6f}\")"
      ],
      "metadata": {
        "colab": {
          "base_uri": "https://localhost:8080/"
        },
        "id": "JqQ9jzOwU6vs",
        "outputId": "f728f76d-da0c-49f7-c05d-b0f471f9a63f"
      },
      "execution_count": 11,
      "outputs": [
        {
          "output_type": "stream",
          "name": "stdout",
          "text": [
            "Epoch 0, MSE: 1.555423\n",
            "Epoch 100, MSE: 0.006608\n",
            "Epoch 200, MSE: 0.003382\n",
            "Epoch 300, MSE: 0.002950\n",
            "Epoch 400, MSE: 0.002577\n",
            "Epoch 500, MSE: 0.002253\n",
            "Epoch 600, MSE: 0.001972\n",
            "Epoch 700, MSE: 0.001726\n",
            "Epoch 800, MSE: 0.001513\n",
            "Epoch 900, MSE: 0.001327\n"
          ]
        }
      ]
    },
    {
      "cell_type": "code",
      "source": [
        "\n",
        "train_mse = np.mean((np.dot(X_train, weights) + bias - Y_train) ** 2)\n",
        "test_mse = np.mean((np.dot(X_test, weights) + bias - Y_test) ** 2)\n",
        "print(f\"Final Training MSE: {train_mse:.6f}\")\n",
        "print(f\"Final Testing MSE: {test_mse:.6f}\")\n"
      ],
      "metadata": {
        "colab": {
          "base_uri": "https://localhost:8080/"
        },
        "id": "rfP-2RJYVFia",
        "outputId": "a42c85f3-5be2-4bac-c197-f8a1abaf3a1d"
      },
      "execution_count": 12,
      "outputs": [
        {
          "output_type": "stream",
          "name": "stdout",
          "text": [
            "Final Training MSE: 0.001165\n",
            "Final Testing MSE: 0.003659\n"
          ]
        }
      ]
    },
    {
      "cell_type": "code",
      "source": [
        "\n",
        "def predict():\n",
        "    x1, x2, x3 = map(float, input(\"Enter values for x1, x2, x3: \").split())\n",
        "    x_input = np.array([[x1, x2, x3]])\n",
        "    y_output = np.dot(x_input, weights) + bias\n",
        "    print(f\"Predicted Output: {y_output[0][0]:.6f}\")\n",
        "\n",
        "predict()\n"
      ],
      "metadata": {
        "colab": {
          "base_uri": "https://localhost:8080/"
        },
        "id": "djxXQnHcVNIl",
        "outputId": "9a346633-a2c5-48db-b93d-47710a370417"
      },
      "execution_count": 14,
      "outputs": [
        {
          "output_type": "stream",
          "name": "stdout",
          "text": [
            "Enter values for x1, x2, x3: 0.7 0.8 0.9\n",
            "Predicted Output: 0.570318\n"
          ]
        }
      ]
    }
  ]
}